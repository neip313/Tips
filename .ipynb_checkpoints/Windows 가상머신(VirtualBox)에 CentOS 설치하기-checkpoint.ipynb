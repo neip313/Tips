{
 "cells": [
  {
   "cell_type": "markdown",
   "metadata": {},
   "source": [
    "CentOS7 설치는 이걸로 하시는게 편합니다.  \n",
    "- https://meyouus.tistory.com/150  \n",
    "\n",
    "CentOS7(Linux)에서 Window형식으로 바꿔지는 자료입니다.(중앙부터)\n",
    "-  https://riptutorial.com/ko/centos  \n",
    "\n",
    "CentOS7 설치 옵션에 대한 이해를 하고 싶으면 이 자료 보시면 됩니다.\n",
    "- http://blog.naver.com/PostView.nhn?blogId=tawoo0&logNo=221563030758&parentCategoryN[…]&categoryNo=&viewDate=&isShowPopularPosts=false&from=postView"
   ]
  }
 ],
 "metadata": {
  "kernelspec": {
   "display_name": "Python 3",
   "language": "python",
   "name": "python3"
  },
  "language_info": {
   "codemirror_mode": {
    "name": "ipython",
    "version": 3
   },
   "file_extension": ".py",
   "mimetype": "text/x-python",
   "name": "python",
   "nbconvert_exporter": "python",
   "pygments_lexer": "ipython3",
   "version": "3.8.3"
  }
 },
 "nbformat": 4,
 "nbformat_minor": 4
}
