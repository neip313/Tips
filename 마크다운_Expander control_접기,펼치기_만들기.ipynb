{
 "cells": [
  {
   "cell_type": "markdown",
   "metadata": {},
   "source": [
    "# 마크다운 - Expander control(접기/펼치기) 만들기\n",
    "\n",
    "마크다운에서 접기/펼치기 가능한 컨트롤 문법을 알아보겠습니다.\n",
    "마크다운 자체엔 기능이 없는 듯 하여 html 의 details를 이용합니다.\n",
    "\n",
    "> 마크다운이라쓰고 html이라 읽는다"
   ]
  },
  {
   "cell_type": "markdown",
   "metadata": {},
   "source": [
    "## 코드\n",
    "INFO\n",
    "div markdown=”1” 은 jekyll에서 html사이에 markdown을 인식 하기 위한 코드입니다."
   ]
  },
  {
   "cell_type": "markdown",
   "metadata": {},
   "source": [
    "```\n",
    "<details>\n",
    "<summary>접기/펼치기 버튼</summary>\n",
    "<div markdown=\"1\">\n",
    "\n",
    "|제목|내용|\n",
    "|--|--|\n",
    "|1|1|\n",
    "|2|10|\n",
    "\n",
    "</div>\n",
    "</details>\n",
    "```"
   ]
  },
  {
   "cell_type": "markdown",
   "metadata": {},
   "source": [
    "## 결과 "
   ]
  },
  {
   "cell_type": "markdown",
   "metadata": {},
   "source": [
    "<details>\n",
    "<summary>접기/펼치기 버튼</summary>\n",
    "<div markdown=\"1\">\n",
    "\n",
    "|제목|내용|\n",
    "|--|--|\n",
    "|1|1|\n",
    "|2|10|\n",
    "\n",
    "</div>\n",
    "</details>"
   ]
  }
 ],
 "metadata": {
  "kernelspec": {
   "display_name": "Python 3",
   "language": "python",
   "name": "python3"
  },
  "language_info": {
   "codemirror_mode": {
    "name": "ipython",
    "version": 3
   },
   "file_extension": ".py",
   "mimetype": "text/x-python",
   "name": "python",
   "nbconvert_exporter": "python",
   "pygments_lexer": "ipython3",
   "version": "3.8.3"
  }
 },
 "nbformat": 4,
 "nbformat_minor": 4
}
