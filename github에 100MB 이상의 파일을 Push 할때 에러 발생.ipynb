{
 "cells": [
  {
   "cell_type": "markdown",
   "metadata": {},
   "source": [
    "# github에 100MB 이상의 파일을 Push 할때 에러 발생\n",
    "---  \n",
    "github에서는 하나의 파일이 100MB 제한이 있습니다.\n",
    "\n",
    "Bitbucket은 하나의 파일의 용량 제한은 없고 2GB 이상이 안된다고 합니다.\n",
    "\n",
    " \n",
    "\n",
    "그래서 지금 이야기 하려는 github의 문제점 해결에 대해서 이야기 하려고 합니다.\n",
    "\n",
    "50MB에서는 Warning을 표시하고, 100MB에서는 Error를 발생한다고 합니다.\n",
    "\n",
    " \n",
    "\n",
    "* Warning의 경우   \n",
    "\n",
    "```\n",
    "> remote: warning: Large files detected.\n",
    "> remote: warning: File big_file is 55.00 MB; this is larger than GitHub's recommended maximum file size of 50 MB\n",
    "```\n",
    "* Error의 경우  \n",
    "\n",
    "```\n",
    "> remote: warning: Large files detected.\n",
    "> remote: error: File giant_file is 123.00 MB; this exceeds GitHub's file size limit of 100 MB\n",
    "```"
   ]
  },
  {
   "cell_type": "markdown",
   "metadata": {},
   "source": [
    "해결 방법을 알아봅시다.\n",
    "\n",
    " \n",
    "\n",
    "1. git-lfs 적용\n",
    "\n",
    " \n",
    "\n",
    "https://git-lfs.github.com/ 이곳에 접속하여 git extension을 받아줍니다.\n",
    "\n",
    "압축을 풀고 install.sh를 실행합니다.\n",
    "\n",
    "레포에 가서 git lfs install 을 하여 줍니다.\n",
    "\n",
    "git lfs track \"*.zip\"\n",
    "\n",
    "git add .\n",
    "\n",
    "git commit -m \"Your Message\"\n",
    "\n",
    "git push\n",
    "\n",
    " \n",
    "\n",
    "2. BFG Repo-Cleaner 사용\n",
    "\n",
    " \n",
    "\n",
    "기존에 100MB 이상의 파일을 Commit 한적이 없다면 1번의 방법으로 해결이 되지만 기존에 이력이 있다면 해결이 안된다고 합니다.  \n",
    "\n",
    "```\n",
    "$ java -jar bfg.jar --strip-blobs-bigger-than 100M\n",
    "```\n",
    "이러한 방법으로 100M보다 큰것을 커밋중에서 삭제하여 주는 방법이 있습니다.\n",
    "\n",
    " \n",
    "\n",
    "혹시라도 진행중에 에러가 발생하게 되면 먼저 이렇게 하여 주어야 한다고 하네요.  \n",
    "\n",
    "```\n",
    "$ git repack && git gc\n",
    "```\n",
    "그리고 push를 하여 주세요.\n",
    "\n",
    "참조 https://mrgamza.tistory.com/646"
   ]
  }
 ],
 "metadata": {
  "kernelspec": {
   "display_name": "Python 3",
   "language": "python",
   "name": "python3"
  },
  "language_info": {
   "codemirror_mode": {
    "name": "ipython",
    "version": 3
   },
   "file_extension": ".py",
   "mimetype": "text/x-python",
   "name": "python",
   "nbconvert_exporter": "python",
   "pygments_lexer": "ipython3",
   "version": "3.8.3"
  }
 },
 "nbformat": 4,
 "nbformat_minor": 4
}
