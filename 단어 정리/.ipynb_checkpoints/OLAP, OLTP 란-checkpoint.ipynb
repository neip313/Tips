{
 "cells": [
  {
   "cell_type": "markdown",
   "metadata": {},
   "source": [
    "1) OLTP: On-Line Transaction Processing (데이터 갱신위주)\n",
    "\n",
    "네트워크 상의 여러 이용자가 실시간으로 데이터베이스의 데이터를 갱신하거나 조회하는 등의 단위작업을 처리하는 방식을 말한다.\n",
    "\n",
    " \n",
    "\n",
    "내가 들은 것중에 생각나는 것을 들어 정리를 해보자면, 은행에서 수많은 입출금 등이 일어날 때, 이것에 대해 어떠한 방식으로 에러없이 처리를 할 것이냐에 관한 것이라고 생각하면 될 것 같다.\n",
    "\n",
    " \n",
    "\n",
    " \n",
    "\n",
    "2) OLAP: On-Line Analytic Processing (데이터 조회위주)\n",
    "\n",
    " \n",
    "\n",
    "정보위주의 처리 분석을 의미한다. 의사결정에 활용할 수 있는  정보를 얻을 수 있게 해주는 기술이다.\n",
    "\n",
    "OLTP에서 처리된 트랜잭션 데이터를 분석해 제품 판매추이, 구매성향파악, 재무회계분석 등을 프로세싱하는 것."
   ]
  }
 ],
 "metadata": {
  "kernelspec": {
   "display_name": "Python 3",
   "language": "python",
   "name": "python3"
  },
  "language_info": {
   "codemirror_mode": {
    "name": "ipython",
    "version": 3
   },
   "file_extension": ".py",
   "mimetype": "text/x-python",
   "name": "python",
   "nbconvert_exporter": "python",
   "pygments_lexer": "ipython3",
   "version": "3.8.5"
  }
 },
 "nbformat": 4,
 "nbformat_minor": 4
}
